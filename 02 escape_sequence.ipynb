{
 "cells": [
  {
   "cell_type": "code",
   "execution_count": 10,
   "metadata": {},
   "outputs": [
    {
     "name": "stdout",
     "output_type": "stream",
     "text": [
      "How to use Escape Sequences\n",
      "\\'\tSingle Quotes\n",
      "\\\"\tDouble Quotes\n",
      "\\\\\tBackslash(Single)\n",
      "\\n\tNew Line\n",
      "\\t\tTab\n",
      "\\b\tBackspace(useless)\n",
      "\n",
      "I'm Ali\n",
      "I\"m Ali\n",
      "\n",
      "I'm Ali\n",
      "I'm an engineering student\n",
      "I'm Ali\tI'm an engineering student\n"
     ]
    }
   ],
   "source": [
    "# use \\\\n to print \\n in output\n",
    "print(\"How to use Escape Sequences\\n\\\\'\\tSingle Quotes\\n\\\\\\\"\\tDouble Quotes\\n\\\\\\\\\\tBackslash(Single)\\n\\\\n\\tNew Line\\n\\\\t\\tTab\\n\\\\b\\tBackspace(useless)\\n\")\n",
    "# single quote in output\n",
    "print('I\\'m Ali')\n",
    "# new line\n",
    "print(\"I\\\"m Ali\\n\")\n",
    "\n",
    "print(\"I'm Ali\\nI'm an engineering student\")\n",
    "print(\"I'm Ali\\tI'm an engineering student\") "
   ]
  }
 ],
 "metadata": {
  "kernelspec": {
   "display_name": "Python 3",
   "language": "python",
   "name": "python3"
  },
  "language_info": {
   "codemirror_mode": {
    "name": "ipython",
    "version": 3
   },
   "file_extension": ".py",
   "mimetype": "text/x-python",
   "name": "python",
   "nbconvert_exporter": "python",
   "pygments_lexer": "ipython3",
   "version": "3.7.3"
  }
 },
 "nbformat": 4,
 "nbformat_minor": 2
}
